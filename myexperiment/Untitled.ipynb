{
 "cells": [
  {
   "cell_type": "code",
   "execution_count": null,
   "metadata": {},
   "outputs": [],
   "source": [
    "expr_list=['*',2,['+',8,7]]\n",
    "str(expr_list)   "
   ]
  },
  {
   "cell_type": "code",
   "execution_count": null,
   "metadata": {},
   "outputs": [],
   "source": []
  },
  {
   "cell_type": "code",
   "execution_count": null,
   "metadata": {},
   "outputs": [],
   "source": []
  },
  {
   "cell_type": "code",
   "execution_count": null,
   "metadata": {},
   "outputs": [],
   "source": [
    "def expr_evaluation(exp):\n",
    "    stack = []\n",
    "    i = 0\n",
    "    while i < len(exp):\n",
    "        if exp[i].isdigit():\n",
    "            num = int(exp[i])\n",
    "            i += 1\n",
    "            while i < len(exp) and exp[i].isdigit():\n",
    "                num = num * 10 + int(exp[i])\n",
    "                i += 1\n",
    "            stack.append(num)\n",
    "        elif exp[i] == \"+\":\n",
    "            stack.append(\"+\")\n",
    "            i += 1\n",
    "        elif exp[i] == \"-\":\n",
    "            stack.append(\"-\")\n",
    "            i += 1\n",
    "        else:\n",
    "            i += 1\n",
    "\n",
    "    result = stack[0]\n",
    "    for i in range(1, len(stack), 2):\n",
    "        if stack[i] == \"+\":\n",
    "            result += stack[i+1]\n",
    "        else:\n",
    "            result -= stack[i+1]\n",
    "\n",
    "    print(\"The evaluated result is:\", result)"
   ]
  },
  {
   "cell_type": "code",
   "execution_count": null,
   "metadata": {},
   "outputs": [],
   "source": [
    "exp=\"45+23\"\n",
    "expr_evaluation(exp)"
   ]
  },
  {
   "cell_type": "code",
   "execution_count": null,
   "metadata": {},
   "outputs": [],
   "source": []
  },
  {
   "cell_type": "code",
   "execution_count": 1,
   "metadata": {},
   "outputs": [
    {
     "name": "stdout",
     "output_type": "stream",
     "text": [
      "2\n"
     ]
    }
   ],
   "source": [
    "def fun(par):\n",
    "    if (par<=0):\n",
    "        return 1**2\n",
    "    else:\n",
    "        return fun(par-3)\n",
    "x=lambda y:fun(y+2) if y==0 else fun(y+5)\n",
    "y=lambda z:x(z-2)+1 if z!=0 else 1\n",
    "print(y(10))"
   ]
  },
  {
   "cell_type": "code",
   "execution_count": null,
   "metadata": {},
   "outputs": [],
   "source": []
  }
 ],
 "metadata": {
  "kernelspec": {
   "display_name": "Python 3",
   "language": "python",
   "name": "python3"
  },
  "language_info": {
   "codemirror_mode": {
    "name": "ipython",
    "version": 3
   },
   "file_extension": ".py",
   "mimetype": "text/x-python",
   "name": "python",
   "nbconvert_exporter": "python",
   "pygments_lexer": "ipython3",
   "version": "3.8.5"
  }
 },
 "nbformat": 4,
 "nbformat_minor": 5
}
