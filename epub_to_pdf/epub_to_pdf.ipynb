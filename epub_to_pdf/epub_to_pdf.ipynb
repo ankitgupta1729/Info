{
 "cells": [
  {
   "cell_type": "code",
   "execution_count": 4,
   "id": "c34e85f0",
   "metadata": {},
   "outputs": [],
   "source": [
    "import aspose.pdf as pdf\n",
    "\n",
    "# Set the source directory path\n",
    "filePath = \"C:/Users/ankit19.gupta/ankit/ankit/info/epub_to_pdf\"\n",
    "\n",
    "# Load the license in your application to convert EPUB to PDF\n",
    "#pdfToPngLicense = pdf.License()\n",
    "#pdfToPngLicense.set_license(filePath + \"Conholdate.Total.Product.Family.lic\")\n",
    "\n",
    "#Declare EpubLoadOptions object\n",
    "epubLoadOptions = pdf.EpubLoadOptions()\n",
    "\n",
    "marginInfo =pdf.MarginInfo() \n",
    "marginInfo.top=200\n",
    "\n",
    "#Set margin info\n",
    "epubLoadOptions.margin=marginInfo\n",
    "\n",
    "#Load the EPUB into a Document class object\n",
    "document = pdf.Document(filePath + \"/dokumen.pub_natural-language-understanding-with-python-combine-natural-language-technology-deep-learning-and-large-language-models-9781804613429.epub\", epubLoadOptions)\n",
    "\n",
    "#save the document as PDF\n",
    "document.save(filePath + \"/dokumen.pub_mastering-chatgpt-create-highly-effective-prompts-strategies-and-best-practices-to-go-from-novice-to-expert.pdf\")"
   ]
  },
  {
   "cell_type": "code",
   "execution_count": 2,
   "id": "cb25d99b",
   "metadata": {},
   "outputs": [],
   "source": [
    "#!pip install aspose-pdf"
   ]
  },
  {
   "cell_type": "code",
   "execution_count": null,
   "id": "8ca16793",
   "metadata": {},
   "outputs": [],
   "source": []
  }
 ],
 "metadata": {
  "kernelspec": {
   "display_name": "Python 3 (ipykernel)",
   "language": "python",
   "name": "python3"
  },
  "language_info": {
   "codemirror_mode": {
    "name": "ipython",
    "version": 3
   },
   "file_extension": ".py",
   "mimetype": "text/x-python",
   "name": "python",
   "nbconvert_exporter": "python",
   "pygments_lexer": "ipython3",
   "version": "3.9.18"
  }
 },
 "nbformat": 4,
 "nbformat_minor": 5
}
