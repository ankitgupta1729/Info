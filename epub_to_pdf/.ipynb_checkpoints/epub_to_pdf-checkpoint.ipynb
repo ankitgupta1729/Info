{
 "cells": [
  {
   "cell_type": "code",
   "execution_count": null,
   "id": "a42a2d8f",
   "metadata": {},
   "outputs": [],
   "source": [
    "import aspose.pdf as pdf\n",
    "\n",
    "# Set the source directory path\n",
    "filePath = \"C:/Users/ankit19.gupta/ankit/ankit/Newly_Added_Stuff\"\n",
    "\n",
    "# Load the license in your application to convert EPUB to PDF\n",
    "#pdfToPngLicense = pdf.License()\n",
    "#pdfToPngLicense.set_license(filePath + \"Conholdate.Total.Product.Family.lic\")\n",
    "\n",
    "#Declare EpubLoadOptions object\n",
    "epubLoadOptions = pdf.EpubLoadOptions()\n",
    "\n",
    "marginInfo =pdf.MarginInfo() \n",
    "marginInfo.top=200\n",
    "\n",
    "#Set margin info\n",
    "epubLoadOptions.margin=marginInfo\n",
    "\n",
    "#Load the EPUB into a Document class object\n",
    "document = pdf.Document(filePath + \"/dokumen.pub_python-for-devops-learn-ruthlessly-effective-automation-original-retailnbsped-149205769x-978-1492057697.epub\", epubLoadOptions)\n",
    "\n",
    "#save the document as PDF\n",
    "document.save(filePath + \"/output.pdf\")"
   ]
  },
  {
   "cell_type": "code",
   "execution_count": 9,
   "id": "8c384a2b",
   "metadata": {},
   "outputs": [],
   "source": [
    "#!pip install aspose-pdf"
   ]
  },
  {
   "cell_type": "code",
   "execution_count": null,
   "id": "039f38c2",
   "metadata": {},
   "outputs": [],
   "source": []
  }
 ],
 "metadata": {
  "kernelspec": {
   "display_name": "Python 3 (ipykernel)",
   "language": "python",
   "name": "python3"
  },
  "language_info": {
   "codemirror_mode": {
    "name": "ipython",
    "version": 3
   },
   "file_extension": ".py",
   "mimetype": "text/x-python",
   "name": "python",
   "nbconvert_exporter": "python",
   "pygments_lexer": "ipython3",
   "version": "3.9.18"
  }
 },
 "nbformat": 4,
 "nbformat_minor": 5
}
